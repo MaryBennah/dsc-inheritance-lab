{
 "cells": [
  {
   "cell_type": "markdown",
   "metadata": {},
   "source": [
    "# Inheritance - Lab\n",
    "\n",
    "## Introduction\n",
    "\n",
    "In this lab, you'll use what you've learned about inheritance to model a zoo using superclasses, subclasses, and maybe even an abstract superclass!\n",
    "\n",
    "## Objectives\n",
    "\n",
    "In this lab you will: \n",
    "\n",
    "- Create a domain model using OOP \n",
    "- Use inheritance to write nonredundant code \n",
    "\n",
    "## Modeling a Zoo\n",
    "\n",
    "Consider the following scenario:  You've been hired by a zookeeper to build a program that keeps track of all the animals in the zoo.  This is a great opportunity to make use of inheritance and object-oriented programming!\n",
    "\n",
    "## Creating an Abstract Superclass\n",
    "\n",
    "Start by creating an abstract superclass, `Animal()`.  When your program is complete, all subclasses of `Animal()` will have the following attributes:\n",
    "\n",
    "* `name`, which is a string set at instantation time\n",
    "* `size`, which can be `'small'`, `'medium'`, `'large'`, or `'enormous'` \n",
    "* `weight`, which is an integer set at instantiation time \n",
    "* `species`, a string that tells us the species of the animal\n",
    "* `food_type`, which can be `'herbivore'`, `'carnivore'`, or `'omnivore'`\n",
    "* `nocturnal`, a boolean value that is `True` if the animal sleeps during the day, otherwise `False`\n",
    "\n",
    "They'll also have the following behaviors:\n",
    "\n",
    "* `sleep`, which prints a string saying if the animal sleeps during day or night\n",
    "* `eat`, which takes in the string `'plants'` or `'meat'`, and returns `'{animal name} the {animal species} thinks {food} is yummy!'` or `'I don't eat this!'` based on the animal's `food_type` attribute \n",
    "\n",
    "In the cell below, create an abstract superclass that meets these specifications.\n",
    "\n",
    "**_NOTE:_** For some attributes in an abstract superclass such as `size`, the initial value doesn't matter -- just make sure that you remember to override it in each of the subclasses!"
   ]
  },
  {
   "cell_type": "code",
   "execution_count": 4,
   "metadata": {},
   "outputs": [],
   "source": [
    "class Animal(object):\n",
    "    pass\n",
    "\n",
    "\n",
    "class Animal():\n",
    "    def __init__(self, name: str, weight: int, species: str, size: str = None, food_type: str = None, nocturnal: bool = False):\n",
    "        self.name = name\n",
    "        self.weight = weight\n",
    "        self.species = species\n",
    "        self.size = size\n",
    "        self.food_type = food_type\n",
    "        self.nocturnal = nocturnal\n",
    "\n",
    "    def sleep(self):\n",
    "        if self.nocturnal:\n",
    "            print(f\"{self.name} the {self.species} sleeps during the day.\")\n",
    "        else:\n",
    "            print(f\"{self.name} the {self.species} sleeps during the night.\")\n",
    "\n",
    "    def eat(self, food: str):\n",
    "        if (food == \"plants\" and self.food_type in [\"herbivore\", \"omnivore\"]) \\\n",
    "           or (food == \"meat\" and self.food_type in [\"carnivore\", \"omnivore\"]):\n",
    "            return f\"{self.name} the {self.species} thinks {food} is yummy!\"\n",
    "        else:\n",
    "            return \"I don't eat this!\"\n",
    "            \n",
    "    def make_sound(self):\n",
    "        \"\"\"Subclasses must implement a sound.\"\"\"\n",
    "        pass"
   ]
  },
  {
   "cell_type": "markdown",
   "metadata": {},
   "source": [
    "Great! Now that you have our abstract superclass, you can begin building out the specific animal classes.\n",
    "\n",
    "In the cell below, complete the `Elephant()` class.  This class should:\n",
    "\n",
    "* subclass `Animal` \n",
    "* have a species of `'elephant'` \n",
    "* have a size of `'enormous'` \n",
    "* have a food type of `'herbivore'` \n",
    "* set nocturnal to `False` \n",
    "\n",
    "**_Hint:_** Remember to make use of `.super()` during initialization, and be sure to pass in the values it expects at instantiation time!"
   ]
  },
  {
   "cell_type": "code",
   "execution_count": 5,
   "metadata": {},
   "outputs": [],
   "source": [
    "class Elephant(Animal):\n",
    "    def __init__(self, name: str, weight: int):\n",
    "        super().__init__(\n",
    "            name=name,\n",
    "            weight=weight,\n",
    "            species=\"elephant\",\n",
    "            size=\"enormous\",\n",
    "            food_type=\"herbivore\",\n",
    "            nocturnal=False\n",
    "        )\n",
    "\n",
    "    def make_sound(self):\n",
    "        return f\"{self.name} the {self.species} trumpets loudly!\""
   ]
  },
  {
   "cell_type": "markdown",
   "metadata": {},
   "source": [
    "Great! Now, in the cell below, create a `Tiger()` class.  This class should: \n",
    "\n",
    "* subclass `Animal` \n",
    "* have a species of `'tiger'` \n",
    "* have a size of `'large'` \n",
    "* have a food type of `'carnivore'` \n",
    "* set nocturnal to `True` "
   ]
  },
  {
   "cell_type": "code",
   "execution_count": 6,
   "metadata": {},
   "outputs": [],
   "source": [
    "class Tiger(Animal):\n",
    "    def __init__(self, name: str, weight: int):\n",
    "        super().__init__(\n",
    "            name=name,\n",
    "            weight=weight,\n",
    "            species=\"tiger\",\n",
    "            size=\"large\",\n",
    "            food_type=\"carnivore\",\n",
    "            nocturnal=True\n",
    "        )\n",
    "\n",
    "    def make_sound(self):\n",
    "        return f\"{self.name} the {self.species} roars fiercely!\""
   ]
  },
  {
   "cell_type": "markdown",
   "metadata": {},
   "source": [
    "Great! Two more classes to go. In the cell below, create a `Raccoon()` class. This class should:\n",
    "\n",
    "* subclass `Animal` \n",
    "* have a species of `raccoon` \n",
    "* have a size of `'small'` \n",
    "* have a food type of `'omnivore'` \n",
    "* set nocturnal to `True` "
   ]
  },
  {
   "cell_type": "code",
   "execution_count": 7,
   "metadata": {},
   "outputs": [],
   "source": [
    "class Raccoon(Animal):\n",
    "    def __init__(self, name: str, weight: int):\n",
    "        super().__init__(\n",
    "            name=name,\n",
    "            weight=weight,\n",
    "            species=\"raccoon\",\n",
    "            size=\"small\",\n",
    "            food_type=\"omnivore\",\n",
    "            nocturnal=True\n",
    "        )\n",
    "\n",
    "    def make_sound(self):\n",
    "        return f\"{self.name} the {self.species} chitters and chatters!\""
   ]
  },
  {
   "cell_type": "markdown",
   "metadata": {},
   "source": [
    "Finally, create a `Gorilla()` class. This class should:\n",
    "\n",
    "* subclass `Animal` \n",
    "* have a species of `gorilla` \n",
    "* have a size of `'large'` \n",
    "* have a food type of `'herbivore'` \n",
    "* set nocturnal to `False` "
   ]
  },
  {
   "cell_type": "code",
   "execution_count": 8,
   "metadata": {},
   "outputs": [],
   "source": [
    "class Gorilla(Animal):\n",
    "    def __init__(self, name: str, weight: int):\n",
    "        super().__init__(\n",
    "            name=name,\n",
    "            weight=weight,\n",
    "            species=\"gorilla\",\n",
    "            size=\"large\",\n",
    "            food_type=\"herbivore\",\n",
    "            nocturnal=False\n",
    "        )\n",
    "\n",
    "    def make_sound(self):\n",
    "        return f\"{self.name} the {self.species} grunts deeply!\""
   ]
  },
  {
   "cell_type": "markdown",
   "metadata": {},
   "source": [
    "## Using Our Objects\n",
    "\n",
    "Now it's time to populate the zoo! To ease the creation of animal instances, create a function `add_animal_to_zoo()`.\n",
    "\n",
    "This function should take in the following parameters:\n",
    "\n",
    "* `zoo`, an array representing the current state of the zoo \n",
    "* `animal_type`, a string.  Can be `'Gorilla'`, `'Raccoon'`, `'Tiger'`, or `'Elephant'` \n",
    "* `name`, the name of the animal being created \n",
    "* `weight`, the weight of the animal being created \n",
    "\n",
    "The function should then:\n",
    "\n",
    "* use `animal_type` to determine which object to create\n",
    "* Create an instance of that animal, passing in the `name` and `weight`\n",
    "* Append the newly created animal to `zoo`\n",
    "* Return `zoo`"
   ]
  },
  {
   "cell_type": "code",
   "execution_count": 9,
   "metadata": {},
   "outputs": [],
   "source": [
    "def add_animal_to_zoo(zoo: list, animal_type: str, name: str, weight: int):\n",
    "    # Map of valid animal types to their corresponding classes\n",
    "    animal_classes = {\n",
    "        \"Elephant\": Elephant,\n",
    "        \"Tiger\": Tiger,\n",
    "        \"Raccoon\": Raccoon,\n",
    "        \"Gorilla\": Gorilla\n",
    "    }\n",
    "\n",
    "    # Check if the animal_type exists in our mapping\n",
    "    if animal_type not in animal_classes:\n",
    "        raise ValueError(f\"Unknown animal type: {animal_type}\")\n",
    "\n",
    "    # Create the correct animal object\n",
    "    animal_class = animal_classes[animal_type]\n",
    "    new_animal = animal_class(name, weight)\n",
    "\n",
    "    # Add to the zoo\n",
    "    zoo.append(new_animal)\n",
    "\n",
    "    return zoo"
   ]
  },
  {
   "cell_type": "markdown",
   "metadata": {},
   "source": [
    "Great! Now, add some animals to your zoo. \n",
    "\n",
    "Create the following animals and add them to your zoo.  The names and weights are up to you.\n",
    "\n",
    "* 2 Elephants\n",
    "* 2 Raccons\n",
    "* 1 Gorilla\n",
    "* 3 Tigers"
   ]
  },
  {
   "cell_type": "code",
   "execution_count": 10,
   "metadata": {},
   "outputs": [
    {
     "name": "stdout",
     "output_type": "stream",
     "text": [
      "Dumbo the elephant (enormous, herbivore, weight 1200kg)\n",
      "Ella the elephant (enormous, herbivore, weight 1350kg)\n",
      "Bandit the raccoon (small, omnivore, weight 20kg)\n",
      "Rocky the raccoon (small, omnivore, weight 25kg)\n",
      "Kong the gorilla (large, herbivore, weight 400kg)\n",
      "Shera the tiger (large, carnivore, weight 310kg)\n",
      "Rajah the tiger (large, carnivore, weight 295kg)\n",
      "Stripe the tiger (large, carnivore, weight 280kg)\n"
     ]
    }
   ],
   "source": [
    "# Create your animals and add them to the 'zoo' in this cell!\n",
    "# Start with an empty zoo\n",
    "zoo = []\n",
    "\n",
    "# Add 2 Elephants\n",
    "add_animal_to_zoo(zoo, \"Elephant\", \"Dumbo\", 1200)\n",
    "add_animal_to_zoo(zoo, \"Elephant\", \"Ella\", 1350)\n",
    "\n",
    "# Add 2 Raccoons\n",
    "add_animal_to_zoo(zoo, \"Raccoon\", \"Bandit\", 20)\n",
    "add_animal_to_zoo(zoo, \"Raccoon\", \"Rocky\", 25)\n",
    "\n",
    "# Add 1 Gorilla\n",
    "add_animal_to_zoo(zoo, \"Gorilla\", \"Kong\", 400)\n",
    "\n",
    "# Add 3 Tigers\n",
    "add_animal_to_zoo(zoo, \"Tiger\", \"Shera\", 310)\n",
    "add_animal_to_zoo(zoo, \"Tiger\", \"Rajah\", 295)\n",
    "add_animal_to_zoo(zoo, \"Tiger\", \"Stripe\", 280)\n",
    "\n",
    "# Show what's in the zoo\n",
    "for animal in zoo:\n",
    "    print(f\"{animal.name} the {animal.species} ({animal.size}, {animal.food_type}, weight {animal.weight}kg)\")"
   ]
  },
  {
   "cell_type": "markdown",
   "metadata": {},
   "source": [
    "Great! Now that you have a populated zoo, you can do what the zookeeper hired you to do -- write a program that feeds the correct animals the right food at the right times!\n",
    "\n",
    "To do this, write a function called `feed_animals()`. This function should take in two arguments:\n",
    "\n",
    "* `zoo`, the zoo array containing all the animals\n",
    "* `time`, which can be `'Day'` or `'Night'`.  This should default to day if nothing is entered for `time` \n",
    "\n",
    "This function should:\n",
    "\n",
    "* Feed only the non-nocturnal animals if `time='Day'`, or only the nocturnal animals if `time='Night'`\n",
    "* Check the food type of each animal before feeding.  If the animal is a carnivore, feed it `'meat'`; otherwise, feed it `'plants'`. Feed the animals by using their `.eat()` method "
   ]
  },
  {
   "cell_type": "code",
   "execution_count": 11,
   "metadata": {},
   "outputs": [],
   "source": [
    "def feed_animals(zoo, time=\"Day\"):\n",
    "    \n",
    "    for animal in zoo:\n",
    "        # Decide whether this animal should be fed\n",
    "        if (time == \"Day\" and not animal.nocturnal) or (time == \"Night\" and animal.nocturnal):\n",
    "            # Decide what to feed based on food_type\n",
    "            if animal.food_type == \"carnivore\":\n",
    "                food = \"meat\"\n",
    "            else:  # herbivore or omnivore\n",
    "                food = \"plants\"\n",
    "\n",
    "            print(animal.eat(food))\n"
   ]
  },
  {
   "cell_type": "markdown",
   "metadata": {},
   "source": [
    "Now, test out your program.  Call the function for a daytime feeding below."
   ]
  },
  {
   "cell_type": "code",
   "execution_count": 12,
   "metadata": {},
   "outputs": [
    {
     "name": "stdout",
     "output_type": "stream",
     "text": [
      "Dumbo the elephant thinks plants is yummy!\n",
      "Ella the elephant thinks plants is yummy!\n",
      "Kong the gorilla thinks plants is yummy!\n"
     ]
    }
   ],
   "source": [
    "# Daytime feeding\n",
    "feed_animals(zoo, \"Day\")"
   ]
  },
  {
   "cell_type": "markdown",
   "metadata": {},
   "source": [
    "If the elephants and gorrillas were fed then things should be good!\n",
    "\n",
    "In the cell below, call `feed_animals()` again, but this time set `time='Night'`"
   ]
  },
  {
   "cell_type": "code",
   "execution_count": 13,
   "metadata": {},
   "outputs": [
    {
     "name": "stdout",
     "output_type": "stream",
     "text": [
      "Bandit the raccoon thinks plants is yummy!\n",
      "Rocky the raccoon thinks plants is yummy!\n",
      "Shera the tiger thinks meat is yummy!\n",
      "Rajah the tiger thinks meat is yummy!\n",
      "Stripe the tiger thinks meat is yummy!\n"
     ]
    }
   ],
   "source": [
    "# Nighttime feeding\n",
    "feed_animals(zoo, \"Night\")"
   ]
  },
  {
   "cell_type": "markdown",
   "metadata": {},
   "source": [
    "That's it! You've used OOP and inheritance to build a working program to help the zookeeper feed his animals with right food at the correct times!\n",
    "\n",
    "## Summary\n",
    "\n",
    "In this lab, you modeled a zoo and learned how to use inheritance to write nonredundant code, used subclasses and superclasses, and create a domain model using OOP."
   ]
  }
 ],
 "metadata": {
  "kernelspec": {
   "display_name": "Python 3",
   "language": "python",
   "name": "python3"
  },
  "language_info": {
   "codemirror_mode": {
    "name": "ipython",
    "version": 3
   },
   "file_extension": ".py",
   "mimetype": "text/x-python",
   "name": "python",
   "nbconvert_exporter": "python",
   "pygments_lexer": "ipython3",
   "version": "3.8.5"
  }
 },
 "nbformat": 4,
 "nbformat_minor": 2
}
